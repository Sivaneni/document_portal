{
 "cells": [
  {
   "cell_type": "code",
   "execution_count": null,
   "id": "ecc9f9b7",
   "metadata": {},
   "outputs": [],
   "source": [
    "print(\"all good\");"
   ]
  },
  {
   "cell_type": "code",
   "execution_count": null,
   "id": "b2b75adc",
   "metadata": {},
   "outputs": [],
   "source": [
    "from langchain_groq import ChatGroq\n",
    "from dotenv import load_dotenv\n",
    "load_dotenv()"
   ]
  },
  {
   "cell_type": "code",
   "execution_count": null,
   "id": "be39679c",
   "metadata": {},
   "outputs": [],
   "source": [
    "model=ChatGroq(\n",
    "    model=\"qwen/qwen3-32b\")\n",
    "model.invoke(\"What is the capital of France?\").content"
   ]
  },
  {
   "cell_type": "code",
   "execution_count": null,
   "id": "746f7193",
   "metadata": {},
   "outputs": [],
   "source": [
    "from langchain_google_genai import GoogleGenerativeAIEmbeddings\n",
    "embedding=GoogleGenerativeAIEmbeddings(model=\"models/embedding-001\").embed_query(\"What is the capital of France?\")\n",
    "print(embedding)    "
   ]
  },
  {
   "cell_type": "code",
   "execution_count": null,
   "id": "46faafb1",
   "metadata": {},
   "outputs": [],
   "source": [
    "# Data ingestion to vector store\n",
    "from langchain.document_loaders import PyPDFLoader\n",
    "from langchain.text_splitter import RecursiveCharacterTextSplitter\n",
    "\n",
    "import os\n",
    "filepath=os.path.join(os.getcwd(), \"data\", \"sample.pdf\")"
   ]
  },
  {
   "cell_type": "code",
   "execution_count": null,
   "id": "2927e982",
   "metadata": {},
   "outputs": [],
   "source": [
    "#PyPDFLoader(filepath)\n",
    "loader=PyPDFLoader(filepath)\n",
    "documents=loader.load()\n",
    "#RecursiveCharacterTextSplitter(chunk_size=1000, chunk_overlap=200)\n",
    "text_splitter=RecursiveCharacterTextSplitter(chunk_size=1000, chunk_overlap=200,length_function=len)\n",
    "split_docs=text_splitter.split_documents(documents)\n",
    "\n",
    "len(split_docs)\n",
    "print(split_docs[0].page_content)\n",
    "print(split_docs[0].metadata)\n"
   ]
  },
  {
   "cell_type": "code",
   "execution_count": null,
   "id": "55d35f0c",
   "metadata": {},
   "outputs": [],
   "source": [
    "# store in vector store\n",
    "from langchain_community.vectorstores import FAISS\n"
   ]
  },
  {
   "cell_type": "code",
   "execution_count": null,
   "id": "7e70fbfd",
   "metadata": {},
   "outputs": [],
   "source": [
    "vectorstore=FAISS.from_documents(\n",
    "    documents=split_docs,\n",
    "    embedding=GoogleGenerativeAIEmbeddings(model=\"models/embedding-001\"))"
   ]
  },
  {
   "cell_type": "code",
   "execution_count": null,
   "id": "9b9dd7c9",
   "metadata": {},
   "outputs": [],
   "source": [
    "\n",
    "relavancedocument=vectorstore.similarity_search(\"llama2 finetuning benchmark experiments.\",k=2)\n",
    "for doc in relavancedocument:\n",
    "    print(f'''{doc.metadata['page']}->{doc.page_content} \\n''' )\n",
    "    "
   ]
  },
  {
   "cell_type": "code",
   "execution_count": null,
   "id": "68b6507f",
   "metadata": {},
   "outputs": [],
   "source": [
    "reteiver=vectorstore.as_retriever(search_type=\"similarity\", search_kwargs={\"k\": 2})\n",
    "reteiver.invoke(\"llama2 finetuning benchmark experiments.\")"
   ]
  },
  {
   "cell_type": "code",
   "execution_count": null,
   "id": "eef3fe26",
   "metadata": {},
   "outputs": [],
   "source": [
    "prompt_template = \"\"\"\n",
    "        Answer the question based on the context provided below. \n",
    "        If the context does not contain sufficient information, respond with: \n",
    "        \"I do not have enough information about this.\"\n",
    "\n",
    "        Context: {context}\n",
    "\n",
    "        Question: {question}\n",
    "\n",
    "        Answer:\"\"\""
   ]
  },
  {
   "cell_type": "code",
   "execution_count": null,
   "id": "be22e4e3",
   "metadata": {},
   "outputs": [],
   "source": [
    "from langchain.prompts import PromptTemplate\n",
    "prompt=PromptTemplate(\n",
    "    template=prompt_template,\n",
    "    input_variables=[\"context\", \"question\"]\n",
    ")"
   ]
  },
  {
   "cell_type": "code",
   "execution_count": null,
   "id": "ad43543d",
   "metadata": {},
   "outputs": [],
   "source": [
    "prompt"
   ]
  },
  {
   "cell_type": "code",
   "execution_count": null,
   "id": "218785ac",
   "metadata": {},
   "outputs": [],
   "source": [
    "from langchain_core.output_parsers import StrOutputParser\n",
    "parser=StrOutputParser()"
   ]
  },
  {
   "cell_type": "code",
   "execution_count": null,
   "id": "f10aacaf",
   "metadata": {},
   "outputs": [],
   "source": [
    "def format_docs(docs):\n",
    "    return \"\\n\\n\".join([doc.page_content for doc in docs])\n",
    "\n",
    "from langchain_core.runnables import RunnablePassthrough\n",
    "rag_chain = (\n",
    "    {\"context\": reteiver | format_docs, \"question\": RunnablePassthrough()}\n",
    "    | prompt\n",
    "    | model\n",
    "    | StrOutputParser()\n",
    ")"
   ]
  },
  {
   "cell_type": "code",
   "execution_count": null,
   "id": "c97f6804",
   "metadata": {},
   "outputs": [],
   "source": [
    "rag_chain.invoke(\"tell  me about the llama2 finetuning benchmark experiments?\")"
   ]
  }
 ],
 "metadata": {
  "kernelspec": {
   "display_name": "Python 3",
   "language": "python",
   "name": "python3"
  },
  "language_info": {
   "codemirror_mode": {
    "name": "ipython",
    "version": 3
   },
   "file_extension": ".py",
   "mimetype": "text/x-python",
   "name": "python",
   "nbconvert_exporter": "python",
   "pygments_lexer": "ipython3",
   "version": "3.10.18"
  }
 },
 "nbformat": 4,
 "nbformat_minor": 5
}
