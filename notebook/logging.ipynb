{
 "cells": [
  {
   "cell_type": "code",
   "execution_count": 1,
   "id": "d0e203af",
   "metadata": {},
   "outputs": [],
   "source": [
    "import logging\n",
    "import os\n",
    "from datetime import datetime"
   ]
  },
  {
   "cell_type": "code",
   "execution_count": 2,
   "id": "15c2becf",
   "metadata": {},
   "outputs": [],
   "source": [
    "logs_dir=os.path.join(os.getcwd(), 'logs')"
   ]
  },
  {
   "cell_type": "code",
   "execution_count": 3,
   "id": "8863d4ae",
   "metadata": {},
   "outputs": [],
   "source": [
    "os.makedirs(logs_dir, exist_ok=True)"
   ]
  },
  {
   "cell_type": "code",
   "execution_count": 4,
   "id": "7f07fdb6",
   "metadata": {},
   "outputs": [],
   "source": [
    "LOG_FILE = os.path.join(logs_dir, f\"{datetime.now().strftime('%Y-%m-%d_%H-%M-%S')}.log\")"
   ]
  },
  {
   "cell_type": "code",
   "execution_count": 5,
   "id": "eb6aa186",
   "metadata": {},
   "outputs": [
    {
     "name": "stderr",
     "output_type": "stream",
     "text": [
      "[ 2025-07-26 16:27:24,976 ] INFO DocumentPortal (line:6) - Logging setup complete.\n"
     ]
    }
   ],
   "source": [
    "logging.basicConfig(\n",
    "    format=\"[ %(asctime)s ] %(levelname)s %(name)s (line:%(lineno)d) - %(message)s\",\n",
    "    level=logging.INFO)\n",
    "\n",
    "logger=logging.getLogger(\"DocumentPortal\")\n",
    "logger.info(\"Logging setup complete.\")"
   ]
  },
  {
   "cell_type": "markdown",
   "id": "0b8aaddd",
   "metadata": {},
   "source": [
    "![alt text](image.png)"
   ]
  },
  {
   "cell_type": "code",
   "execution_count": 11,
   "id": "5f44faea",
   "metadata": {},
   "outputs": [],
   "source": [
    "import structlog\n",
    "structlog.configure(\n",
    "    processors=[\n",
    "        structlog.processors.TimeStamper(fmt=\"iso\"),\n",
    "        structlog.processors.StackInfoRenderer(),\n",
    "        structlog.processors.format_exc_info,\n",
    "        structlog.processors.JSONRenderer()\n",
    "    ],\n",
    "    context_class=dict,\n",
    "    logger_factory=structlog.stdlib.LoggerFactory(),\n",
    "    wrapper_class=structlog.stdlib.BoundLogger,\n",
    "    cache_logger_on_first_use=True\n",
    ")\n",
    "\n",
    "log = structlog.get_logger(\"DocumentPortal\")"
   ]
  },
  {
   "cell_type": "code",
   "execution_count": 12,
   "id": "8a2bf8a1",
   "metadata": {},
   "outputs": [
    {
     "name": "stderr",
     "output_type": "stream",
     "text": [
      "[ 2025-07-26 16:30:23,586 ] INFO DocumentPortal (line:223) - {\"user\": \"DocumentPortal\", \"action\": \"initialize\", \"event\": \"Structlog setup complete.\", \"timestamp\": \"2025-07-26T11:00:23.586868Z\"}\n"
     ]
    }
   ],
   "source": [
    "log.info(\"Structlog setup complete.\",user=\"DocumentPortal\", action=\"initialize\")"
   ]
  }
 ],
 "metadata": {
  "kernelspec": {
   "display_name": "Python 3",
   "language": "python",
   "name": "python3"
  },
  "language_info": {
   "codemirror_mode": {
    "name": "ipython",
    "version": 3
   },
   "file_extension": ".py",
   "mimetype": "text/x-python",
   "name": "python",
   "nbconvert_exporter": "python",
   "pygments_lexer": "ipython3",
   "version": "3.10.18"
  }
 },
 "nbformat": 4,
 "nbformat_minor": 5
}
