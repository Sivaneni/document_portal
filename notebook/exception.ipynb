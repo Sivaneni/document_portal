{
 "cells": [
  {
   "cell_type": "code",
   "execution_count": 7,
   "id": "3078ab54",
   "metadata": {},
   "outputs": [],
   "source": [
    "import sys\n",
    "import traceback\n",
    "from logger.custom_logger import CustomLogger"
   ]
  },
  {
   "cell_type": "code",
   "execution_count": 10,
   "id": "b84327b0",
   "metadata": {},
   "outputs": [],
   "source": [
    "\n",
    "logger = CustomLogger().get_logger(\"exception_logger\")"
   ]
  },
  {
   "cell_type": "code",
   "execution_count": null,
   "id": "678e42b8",
   "metadata": {},
   "outputs": [
    {
     "name": "stdout",
     "output_type": "stream",
     "text": [
      "exc_tb: <traceback object at 0x000001E511AC3500>\n"
     ]
    },
    {
     "ename": "DocumentPortalException",
     "evalue": "\n        Error occurred in file C:\\Users\\SIVANENI PRASANNA\\AppData\\Local\\Temp\\ipykernel_40900\\3115186772.py at line 21\n        Error message: division by zero\n        traceback: \n        Traceback (most recent call last):\n  File \"C:\\Users\\SIVANENI PRASANNA\\AppData\\Local\\Temp\\ipykernel_40900\\3115186772.py\", line 21, in <module>\n    a= 1 / 0  # Example operation that raises an exception\nZeroDivisionError: division by zero\n\n       ",
     "output_type": "error",
     "traceback": [
      "\u001b[1;31m---------------------------------------------------------------------------\u001b[0m",
      "\u001b[1;31mZeroDivisionError\u001b[0m                         Traceback (most recent call last)",
      "Cell \u001b[1;32mIn[14], line 21\u001b[0m\n\u001b[0;32m     20\u001b[0m \u001b[38;5;28;01mtry\u001b[39;00m:\n\u001b[1;32m---> 21\u001b[0m     a\u001b[38;5;241m=\u001b[39m \u001b[38;5;241;43m1\u001b[39;49m\u001b[43m \u001b[49m\u001b[38;5;241;43m/\u001b[39;49m\u001b[43m \u001b[49m\u001b[38;5;241;43m0\u001b[39;49m  \u001b[38;5;66;03m# Example operation that raises an exception\u001b[39;00m\n\u001b[0;32m     22\u001b[0m     \u001b[38;5;28mprint\u001b[39m(a)\n",
      "\u001b[1;31mZeroDivisionError\u001b[0m: division by zero",
      "\nDuring handling of the above exception, another exception occurred:\n",
      "\u001b[1;31mDocumentPortalException\u001b[0m                   Traceback (most recent call last)",
      "Cell \u001b[1;32mIn[14], line 26\u001b[0m\n\u001b[0;32m     24\u001b[0m app_exc \u001b[38;5;241m=\u001b[39m DocumentPortalException(e,sys)\n\u001b[0;32m     25\u001b[0m logger\u001b[38;5;241m.\u001b[39merror(app_exc)\n\u001b[1;32m---> 26\u001b[0m \u001b[38;5;28;01mraise\u001b[39;00m app_exc\n",
      "\u001b[1;31mDocumentPortalException\u001b[0m: \n        Error occurred in file C:\\Users\\SIVANENI PRASANNA\\AppData\\Local\\Temp\\ipykernel_40900\\3115186772.py at line 21\n        Error message: division by zero\n        traceback: \n        Traceback (most recent call last):\n  File \"C:\\Users\\SIVANENI PRASANNA\\AppData\\Local\\Temp\\ipykernel_40900\\3115186772.py\", line 21, in <module>\n    a= 1 / 0  # Example operation that raises an exception\nZeroDivisionError: division by zero\n\n       "
     ]
    }
   ],
   "source": [
    "class DocumentPortalException(Exception):\n",
    "    \"\"\"Base class for all exceptions in Document Portal.\"\"\"\n",
    "    def __init__(self,error_message:str,error_details:sys):\n",
    "\n",
    "       _,_,exc_tb = sys.exc_info()\n",
    "\n",
    "       self.file_name=exc_tb.tb_frame.f_code.co_filename\n",
    "       self.lineno=exc_tb.tb_lineno\n",
    "       self.error_message=str(error_message)\n",
    "       self.traceback=\"\".join(traceback.format_exception(*error_details.exc_info()))\n",
    "    def __str__(self):\n",
    "       return f\"\"\"\n",
    "        Error occurred in file {self.file_name} at line {self.lineno}\n",
    "        Error message: {self.error_message}\n",
    "        traceback: \n",
    "        {self.traceback}\n",
    "       \"\"\"\n",
    "if __name__ == \"__main__\":\n",
    "    try:\n",
    "        a= 1 / 0  # Example operation that raises an exception\n",
    "        print(a)\n",
    "    except Exception as e:\n",
    "        app_exc = DocumentPortalException(e,sys)\n",
    "        logger.error(app_exc)\n",
    "        raise app_exc\n",
    "\n",
    "    "
   ]
  },
  {
   "cell_type": "code",
   "execution_count": null,
   "id": "3dad03d0",
   "metadata": {},
   "outputs": [
    {
     "data": {
      "text/plain": [
       "(None, None, None)"
      ]
     },
     "execution_count": 12,
     "metadata": {},
     "output_type": "execute_result"
    }
   ],
   "source": []
  },
  {
   "cell_type": "code",
   "execution_count": null,
   "id": "44f3aab7",
   "metadata": {},
   "outputs": [],
   "source": [
    "1.log this info(file,cloud_config,command_prompt)\n",
    "2.raise the exception (it will stop the execution of code)"
   ]
  }
 ],
 "metadata": {
  "kernelspec": {
   "display_name": "Python 3",
   "language": "python",
   "name": "python3"
  },
  "language_info": {
   "codemirror_mode": {
    "name": "ipython",
    "version": 3
   },
   "file_extension": ".py",
   "mimetype": "text/x-python",
   "name": "python",
   "nbconvert_exporter": "python",
   "pygments_lexer": "ipython3",
   "version": "3.10.18"
  }
 },
 "nbformat": 4,
 "nbformat_minor": 5
}
